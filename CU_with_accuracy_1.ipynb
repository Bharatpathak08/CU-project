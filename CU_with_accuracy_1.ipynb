{
 "cells": [
  {
   "cell_type": "code",
   "execution_count": 1,
   "metadata": {
    "colab": {
     "base_uri": "https://localhost:8080/"
    },
    "id": "AVKALgqW2mG5",
    "outputId": "37f4ed31-5b3a-45eb-8a76-8871b7e21437"
   },
   "outputs": [
    {
     "name": "stdout",
     "output_type": "stream",
     "text": [
      "   ID             Date     Price  Bedrooms  Bathrooms  Sqft_living  Sqft_lot  \\\n",
      "0   1  20140916T000000  280000.0         6       3.00         2400      9373   \n",
      "1   2  20150422T000000  300000.0         6       3.00         2400      9373   \n",
      "2   3  20140508T000000  647500.0         4       1.75         2060     26036   \n",
      "3   4  20140811T000000  400000.0         3       1.00         1460     43000   \n",
      "4   5  20150401T000000  235000.0         3       1.00         1430      7599   \n",
      "\n",
      "   Floors  Waterfront  View  ...  Grade  Sqft_above  Sqft_basement  Yr_built  \\\n",
      "0     2.0           0     0  ...      7        2400              0      1991   \n",
      "1     2.0           0     0  ...      7        2400              0      1991   \n",
      "2     1.0           0     0  ...      8        1160            900      1947   \n",
      "3     1.0           0     0  ...      7        1460              0      1952   \n",
      "4     1.5           0     0  ...      6        1010            420      1930   \n",
      "\n",
      "   Yr_renovated  zipcode      Lat     Long  Sqft_living15  Sqft_lot15  \n",
      "0             0    98002  47.3262 -122.214           2060        7316  \n",
      "1             0    98002  47.3262 -122.214           2060        7316  \n",
      "2             0    98166  47.4444 -122.351           2590       21891  \n",
      "3             0    98166  47.4434 -122.347           2250       20023  \n",
      "4             0    98168  47.4783 -122.265           1290       10320  \n",
      "\n",
      "[5 rows x 21 columns]\n"
     ]
    }
   ],
   "source": [
    "import pandas as pd\n",
    "house=pd.read_csv(\"https://raw.githubusercontent.com/ybifoundation/Dataset/main/House%20Prices.csv\")\n",
    "print(house.head())\n"
   ]
  },
  {
   "cell_type": "code",
   "execution_count": 2,
   "metadata": {
    "colab": {
     "base_uri": "https://localhost:8080/"
    },
    "id": "DekQ1pZNMiKn",
    "outputId": "cfc8bacd-9954-4e67-b7ff-108aa7d3ed5b"
   },
   "outputs": [
    {
     "name": "stdout",
     "output_type": "stream",
     "text": [
      "<class 'pandas.core.frame.DataFrame'>\n",
      "RangeIndex: 21613 entries, 0 to 21612\n",
      "Data columns (total 21 columns):\n",
      " #   Column         Non-Null Count  Dtype  \n",
      "---  ------         --------------  -----  \n",
      " 0   ID             21613 non-null  int64  \n",
      " 1   Date           21613 non-null  object \n",
      " 2   Price          21613 non-null  float64\n",
      " 3   Bedrooms       21613 non-null  int64  \n",
      " 4   Bathrooms      21613 non-null  float64\n",
      " 5   Sqft_living    21613 non-null  int64  \n",
      " 6   Sqft_lot       21613 non-null  int64  \n",
      " 7   Floors         21613 non-null  float64\n",
      " 8   Waterfront     21613 non-null  int64  \n",
      " 9   View           21613 non-null  int64  \n",
      " 10  Condition      21613 non-null  int64  \n",
      " 11  Grade          21613 non-null  int64  \n",
      " 12  Sqft_above     21613 non-null  int64  \n",
      " 13  Sqft_basement  21613 non-null  int64  \n",
      " 14  Yr_built       21613 non-null  int64  \n",
      " 15  Yr_renovated   21613 non-null  int64  \n",
      " 16  zipcode        21613 non-null  int64  \n",
      " 17  Lat            21613 non-null  float64\n",
      " 18  Long           21613 non-null  float64\n",
      " 19  Sqft_living15  21613 non-null  int64  \n",
      " 20  Sqft_lot15     21613 non-null  int64  \n",
      "dtypes: float64(5), int64(15), object(1)\n",
      "memory usage: 3.5+ MB\n"
     ]
    }
   ],
   "source": [
    "house.info()"
   ]
  },
  {
   "cell_type": "code",
   "execution_count": 3,
   "metadata": {
    "colab": {
     "base_uri": "https://localhost:8080/",
     "height": 364
    },
    "id": "6kcQYS5nNQiQ",
    "outputId": "4552eea5-336d-49c0-a061-d7c6461f002e"
   },
   "outputs": [
    {
     "data": {
      "text/html": [
       "<div>\n",
       "<style scoped>\n",
       "    .dataframe tbody tr th:only-of-type {\n",
       "        vertical-align: middle;\n",
       "    }\n",
       "\n",
       "    .dataframe tbody tr th {\n",
       "        vertical-align: top;\n",
       "    }\n",
       "\n",
       "    .dataframe thead th {\n",
       "        text-align: right;\n",
       "    }\n",
       "</style>\n",
       "<table border=\"1\" class=\"dataframe\">\n",
       "  <thead>\n",
       "    <tr style=\"text-align: right;\">\n",
       "      <th></th>\n",
       "      <th>ID</th>\n",
       "      <th>Price</th>\n",
       "      <th>Bedrooms</th>\n",
       "      <th>Bathrooms</th>\n",
       "      <th>Sqft_living</th>\n",
       "      <th>Sqft_lot</th>\n",
       "      <th>Floors</th>\n",
       "      <th>Waterfront</th>\n",
       "      <th>View</th>\n",
       "      <th>Condition</th>\n",
       "      <th>Grade</th>\n",
       "      <th>Sqft_above</th>\n",
       "      <th>Sqft_basement</th>\n",
       "      <th>Yr_built</th>\n",
       "      <th>Yr_renovated</th>\n",
       "      <th>zipcode</th>\n",
       "      <th>Lat</th>\n",
       "      <th>Long</th>\n",
       "      <th>Sqft_living15</th>\n",
       "      <th>Sqft_lot15</th>\n",
       "    </tr>\n",
       "  </thead>\n",
       "  <tbody>\n",
       "    <tr>\n",
       "      <th>count</th>\n",
       "      <td>21613.00000</td>\n",
       "      <td>2.161300e+04</td>\n",
       "      <td>21613.000000</td>\n",
       "      <td>21613.000000</td>\n",
       "      <td>21613.000000</td>\n",
       "      <td>2.161300e+04</td>\n",
       "      <td>21613.000000</td>\n",
       "      <td>21613.000000</td>\n",
       "      <td>21613.000000</td>\n",
       "      <td>21613.000000</td>\n",
       "      <td>21613.000000</td>\n",
       "      <td>21613.000000</td>\n",
       "      <td>21613.000000</td>\n",
       "      <td>21613.000000</td>\n",
       "      <td>21613.000000</td>\n",
       "      <td>21613.000000</td>\n",
       "      <td>21613.000000</td>\n",
       "      <td>21613.000000</td>\n",
       "      <td>21613.000000</td>\n",
       "      <td>21613.000000</td>\n",
       "    </tr>\n",
       "    <tr>\n",
       "      <th>mean</th>\n",
       "      <td>10807.00000</td>\n",
       "      <td>5.401822e+05</td>\n",
       "      <td>3.370842</td>\n",
       "      <td>2.114757</td>\n",
       "      <td>2079.899736</td>\n",
       "      <td>1.510697e+04</td>\n",
       "      <td>1.494309</td>\n",
       "      <td>0.007542</td>\n",
       "      <td>0.234303</td>\n",
       "      <td>3.409430</td>\n",
       "      <td>7.656873</td>\n",
       "      <td>1788.390691</td>\n",
       "      <td>291.509045</td>\n",
       "      <td>1971.005136</td>\n",
       "      <td>84.402258</td>\n",
       "      <td>98077.939805</td>\n",
       "      <td>47.560053</td>\n",
       "      <td>-122.213896</td>\n",
       "      <td>1986.552492</td>\n",
       "      <td>12768.455652</td>\n",
       "    </tr>\n",
       "    <tr>\n",
       "      <th>std</th>\n",
       "      <td>6239.28002</td>\n",
       "      <td>3.673622e+05</td>\n",
       "      <td>0.930062</td>\n",
       "      <td>0.770163</td>\n",
       "      <td>918.440897</td>\n",
       "      <td>4.142051e+04</td>\n",
       "      <td>0.539989</td>\n",
       "      <td>0.086517</td>\n",
       "      <td>0.766318</td>\n",
       "      <td>0.650743</td>\n",
       "      <td>1.175459</td>\n",
       "      <td>828.090978</td>\n",
       "      <td>442.575043</td>\n",
       "      <td>29.373411</td>\n",
       "      <td>401.679240</td>\n",
       "      <td>53.505026</td>\n",
       "      <td>0.138564</td>\n",
       "      <td>0.140828</td>\n",
       "      <td>685.391304</td>\n",
       "      <td>27304.179631</td>\n",
       "    </tr>\n",
       "    <tr>\n",
       "      <th>min</th>\n",
       "      <td>1.00000</td>\n",
       "      <td>7.500000e+04</td>\n",
       "      <td>0.000000</td>\n",
       "      <td>0.000000</td>\n",
       "      <td>290.000000</td>\n",
       "      <td>5.200000e+02</td>\n",
       "      <td>1.000000</td>\n",
       "      <td>0.000000</td>\n",
       "      <td>0.000000</td>\n",
       "      <td>1.000000</td>\n",
       "      <td>1.000000</td>\n",
       "      <td>290.000000</td>\n",
       "      <td>0.000000</td>\n",
       "      <td>1900.000000</td>\n",
       "      <td>0.000000</td>\n",
       "      <td>98001.000000</td>\n",
       "      <td>47.155900</td>\n",
       "      <td>-122.519000</td>\n",
       "      <td>399.000000</td>\n",
       "      <td>651.000000</td>\n",
       "    </tr>\n",
       "    <tr>\n",
       "      <th>25%</th>\n",
       "      <td>5404.00000</td>\n",
       "      <td>3.219500e+05</td>\n",
       "      <td>3.000000</td>\n",
       "      <td>1.750000</td>\n",
       "      <td>1427.000000</td>\n",
       "      <td>5.040000e+03</td>\n",
       "      <td>1.000000</td>\n",
       "      <td>0.000000</td>\n",
       "      <td>0.000000</td>\n",
       "      <td>3.000000</td>\n",
       "      <td>7.000000</td>\n",
       "      <td>1190.000000</td>\n",
       "      <td>0.000000</td>\n",
       "      <td>1951.000000</td>\n",
       "      <td>0.000000</td>\n",
       "      <td>98033.000000</td>\n",
       "      <td>47.471000</td>\n",
       "      <td>-122.328000</td>\n",
       "      <td>1490.000000</td>\n",
       "      <td>5100.000000</td>\n",
       "    </tr>\n",
       "    <tr>\n",
       "      <th>50%</th>\n",
       "      <td>10807.00000</td>\n",
       "      <td>4.500000e+05</td>\n",
       "      <td>3.000000</td>\n",
       "      <td>2.250000</td>\n",
       "      <td>1910.000000</td>\n",
       "      <td>7.618000e+03</td>\n",
       "      <td>1.500000</td>\n",
       "      <td>0.000000</td>\n",
       "      <td>0.000000</td>\n",
       "      <td>3.000000</td>\n",
       "      <td>7.000000</td>\n",
       "      <td>1560.000000</td>\n",
       "      <td>0.000000</td>\n",
       "      <td>1975.000000</td>\n",
       "      <td>0.000000</td>\n",
       "      <td>98065.000000</td>\n",
       "      <td>47.571800</td>\n",
       "      <td>-122.230000</td>\n",
       "      <td>1840.000000</td>\n",
       "      <td>7620.000000</td>\n",
       "    </tr>\n",
       "    <tr>\n",
       "      <th>75%</th>\n",
       "      <td>16210.00000</td>\n",
       "      <td>6.450000e+05</td>\n",
       "      <td>4.000000</td>\n",
       "      <td>2.500000</td>\n",
       "      <td>2550.000000</td>\n",
       "      <td>1.068800e+04</td>\n",
       "      <td>2.000000</td>\n",
       "      <td>0.000000</td>\n",
       "      <td>0.000000</td>\n",
       "      <td>4.000000</td>\n",
       "      <td>8.000000</td>\n",
       "      <td>2210.000000</td>\n",
       "      <td>560.000000</td>\n",
       "      <td>1997.000000</td>\n",
       "      <td>0.000000</td>\n",
       "      <td>98118.000000</td>\n",
       "      <td>47.678000</td>\n",
       "      <td>-122.125000</td>\n",
       "      <td>2360.000000</td>\n",
       "      <td>10083.000000</td>\n",
       "    </tr>\n",
       "    <tr>\n",
       "      <th>max</th>\n",
       "      <td>21613.00000</td>\n",
       "      <td>7.700000e+06</td>\n",
       "      <td>33.000000</td>\n",
       "      <td>8.000000</td>\n",
       "      <td>13540.000000</td>\n",
       "      <td>1.651359e+06</td>\n",
       "      <td>3.500000</td>\n",
       "      <td>1.000000</td>\n",
       "      <td>4.000000</td>\n",
       "      <td>5.000000</td>\n",
       "      <td>13.000000</td>\n",
       "      <td>9410.000000</td>\n",
       "      <td>4820.000000</td>\n",
       "      <td>2015.000000</td>\n",
       "      <td>2015.000000</td>\n",
       "      <td>98199.000000</td>\n",
       "      <td>47.777600</td>\n",
       "      <td>-121.315000</td>\n",
       "      <td>6210.000000</td>\n",
       "      <td>871200.000000</td>\n",
       "    </tr>\n",
       "  </tbody>\n",
       "</table>\n",
       "</div>"
      ],
      "text/plain": [
       "                ID         Price      Bedrooms     Bathrooms   Sqft_living  \\\n",
       "count  21613.00000  2.161300e+04  21613.000000  21613.000000  21613.000000   \n",
       "mean   10807.00000  5.401822e+05      3.370842      2.114757   2079.899736   \n",
       "std     6239.28002  3.673622e+05      0.930062      0.770163    918.440897   \n",
       "min        1.00000  7.500000e+04      0.000000      0.000000    290.000000   \n",
       "25%     5404.00000  3.219500e+05      3.000000      1.750000   1427.000000   \n",
       "50%    10807.00000  4.500000e+05      3.000000      2.250000   1910.000000   \n",
       "75%    16210.00000  6.450000e+05      4.000000      2.500000   2550.000000   \n",
       "max    21613.00000  7.700000e+06     33.000000      8.000000  13540.000000   \n",
       "\n",
       "           Sqft_lot        Floors    Waterfront          View     Condition  \\\n",
       "count  2.161300e+04  21613.000000  21613.000000  21613.000000  21613.000000   \n",
       "mean   1.510697e+04      1.494309      0.007542      0.234303      3.409430   \n",
       "std    4.142051e+04      0.539989      0.086517      0.766318      0.650743   \n",
       "min    5.200000e+02      1.000000      0.000000      0.000000      1.000000   \n",
       "25%    5.040000e+03      1.000000      0.000000      0.000000      3.000000   \n",
       "50%    7.618000e+03      1.500000      0.000000      0.000000      3.000000   \n",
       "75%    1.068800e+04      2.000000      0.000000      0.000000      4.000000   \n",
       "max    1.651359e+06      3.500000      1.000000      4.000000      5.000000   \n",
       "\n",
       "              Grade    Sqft_above  Sqft_basement      Yr_built  Yr_renovated  \\\n",
       "count  21613.000000  21613.000000   21613.000000  21613.000000  21613.000000   \n",
       "mean       7.656873   1788.390691     291.509045   1971.005136     84.402258   \n",
       "std        1.175459    828.090978     442.575043     29.373411    401.679240   \n",
       "min        1.000000    290.000000       0.000000   1900.000000      0.000000   \n",
       "25%        7.000000   1190.000000       0.000000   1951.000000      0.000000   \n",
       "50%        7.000000   1560.000000       0.000000   1975.000000      0.000000   \n",
       "75%        8.000000   2210.000000     560.000000   1997.000000      0.000000   \n",
       "max       13.000000   9410.000000    4820.000000   2015.000000   2015.000000   \n",
       "\n",
       "            zipcode           Lat          Long  Sqft_living15     Sqft_lot15  \n",
       "count  21613.000000  21613.000000  21613.000000   21613.000000   21613.000000  \n",
       "mean   98077.939805     47.560053   -122.213896    1986.552492   12768.455652  \n",
       "std       53.505026      0.138564      0.140828     685.391304   27304.179631  \n",
       "min    98001.000000     47.155900   -122.519000     399.000000     651.000000  \n",
       "25%    98033.000000     47.471000   -122.328000    1490.000000    5100.000000  \n",
       "50%    98065.000000     47.571800   -122.230000    1840.000000    7620.000000  \n",
       "75%    98118.000000     47.678000   -122.125000    2360.000000   10083.000000  \n",
       "max    98199.000000     47.777600   -121.315000    6210.000000  871200.000000  "
      ]
     },
     "execution_count": 3,
     "metadata": {},
     "output_type": "execute_result"
    }
   ],
   "source": [
    "house.describe()"
   ]
  },
  {
   "cell_type": "code",
   "execution_count": 4,
   "metadata": {
    "colab": {
     "base_uri": "https://localhost:8080/"
    },
    "id": "WVhQHVWNNqZ8",
    "outputId": "3601acc3-e274-48cd-cc85-8e7a021167cb"
   },
   "outputs": [
    {
     "data": {
      "text/plain": [
       "(21613, 21)"
      ]
     },
     "execution_count": 4,
     "metadata": {},
     "output_type": "execute_result"
    }
   ],
   "source": [
    "house.shape"
   ]
  },
  {
   "cell_type": "code",
   "execution_count": 5,
   "metadata": {
    "colab": {
     "base_uri": "https://localhost:8080/"
    },
    "id": "7WDboAL8Nvtd",
    "outputId": "639ef460-3bfc-46ca-e594-1caf7142cb6b"
   },
   "outputs": [
    {
     "data": {
      "text/plain": [
       "Index(['ID', 'Date', 'Price', 'Bedrooms', 'Bathrooms', 'Sqft_living',\n",
       "       'Sqft_lot', 'Floors', 'Waterfront', 'View', 'Condition', 'Grade',\n",
       "       'Sqft_above', 'Sqft_basement', 'Yr_built', 'Yr_renovated', 'zipcode',\n",
       "       'Lat', 'Long', 'Sqft_living15', 'Sqft_lot15'],\n",
       "      dtype='object')"
      ]
     },
     "execution_count": 5,
     "metadata": {},
     "output_type": "execute_result"
    }
   ],
   "source": [
    "house.columns"
   ]
  },
  {
   "cell_type": "code",
   "execution_count": 6,
   "metadata": {
    "colab": {
     "base_uri": "https://localhost:8080/",
     "height": 445
    },
    "id": "3yib7vpv2ntp",
    "outputId": "7c7586c8-b766-4497-a59e-37e184b597ab"
   },
   "outputs": [
    {
     "data": {
      "image/png": "[encoded data removed]",
      "text/plain": [
       "<Figure size 640x480 with 1 Axes>"
      ]
     },
     "metadata": {},
     "output_type": "display_data"
    }
   ],
   "source": [
    "import matplotlib.pyplot as plt\n",
    "fig, ax = plt.subplots()\n",
    "ax.scatter(x=house['Floors'], y=house['Price'])\n",
    "plt.show()"
   ]
  },
  {
   "cell_type": "code",
   "execution_count": 7,
   "metadata": {
    "colab": {
     "base_uri": "https://localhost:8080/",
     "height": 775
    },
    "id": "khw1eI5F21wr",
    "outputId": "cd3a5814-1401-49ef-992f-8e1e977d8105"
   },
   "outputs": [
    {
     "name": "stderr",
     "output_type": "stream",
     "text": [
      "C:\\Users\\Bharat Pathak\\AppData\\Local\\Temp\\ipykernel_9116\\3390966919.py:1: FutureWarning: The default value of numeric_only in DataFrame.corr is deprecated. In a future version, it will default to False. Select only valid columns or specify the value of numeric_only to silence this warning.\n",
      "  house.corr()\n"
     ]
    },
    {
     "data": {
      "text/html": [
       "<div>\n",
       "<style scoped>\n",
       "    .dataframe tbody tr th:only-of-type {\n",
       "        vertical-align: middle;\n",
       "    }\n",
       "\n",
       "    .dataframe tbody tr th {\n",
       "        vertical-align: top;\n",
       "    }\n",
       "\n",
       "    .dataframe thead th {\n",
       "        text-align: right;\n",
       "    }\n",
       "</style>\n",
       "<table border=\"1\" class=\"dataframe\">\n",
       "  <thead>\n",
       "    <tr style=\"text-align: right;\">\n",
       "      <th></th>\n",
       "      <th>ID</th>\n",
       "      <th>Price</th>\n",
       "      <th>Bedrooms</th>\n",
       "      <th>Bathrooms</th>\n",
       "      <th>Sqft_living</th>\n",
       "      <th>Sqft_lot</th>\n",
       "      <th>Floors</th>\n",
       "      <th>Waterfront</th>\n",
       "      <th>View</th>\n",
       "      <th>Condition</th>\n",
       "      <th>Grade</th>\n",
       "      <th>Sqft_above</th>\n",
       "      <th>Sqft_basement</th>\n",
       "      <th>Yr_built</th>\n",
       "      <th>Yr_renovated</th>\n",
       "      <th>zipcode</th>\n",
       "      <th>Lat</th>\n",
       "      <th>Long</th>\n",
       "      <th>Sqft_living15</th>\n",
       "      <th>Sqft_lot15</th>\n",
       "    </tr>\n",
       "  </thead>\n",
       "  <tbody>\n",
       "    <tr>\n",
       "      <th>ID</th>\n",
       "      <td>1.000000</td>\n",
       "      <td>-0.016578</td>\n",
       "      <td>0.002100</td>\n",
       "      <td>0.003791</td>\n",
       "      <td>-0.013228</td>\n",
       "      <td>-0.136540</td>\n",
       "      <td>0.015831</td>\n",
       "      <td>-0.003573</td>\n",
       "      <td>0.012509</td>\n",
       "      <td>-0.021685</td>\n",
       "      <td>0.007749</td>\n",
       "      <td>-0.013270</td>\n",
       "      <td>-0.002623</td>\n",
       "      <td>0.019339</td>\n",
       "      <td>-0.017579</td>\n",
       "      <td>-0.011795</td>\n",
       "      <td>-0.001849</td>\n",
       "      <td>0.015529</td>\n",
       "      <td>-0.003885</td>\n",
       "      <td>-0.143569</td>\n",
       "    </tr>\n",
       "    <tr>\n",
       "      <th>Price</th>\n",
       "      <td>-0.016578</td>\n",
       "      <td>1.000000</td>\n",
       "      <td>0.308338</td>\n",
       "      <td>0.525134</td>\n",
       "      <td>0.702044</td>\n",
       "      <td>0.089655</td>\n",
       "      <td>0.256786</td>\n",
       "      <td>0.266331</td>\n",
       "      <td>0.397346</td>\n",
       "      <td>0.036392</td>\n",
       "      <td>0.667463</td>\n",
       "      <td>0.605566</td>\n",
       "      <td>0.323837</td>\n",
       "      <td>0.053982</td>\n",
       "      <td>0.126442</td>\n",
       "      <td>-0.053168</td>\n",
       "      <td>0.306919</td>\n",
       "      <td>0.021571</td>\n",
       "      <td>0.585374</td>\n",
       "      <td>0.082456</td>\n",
       "    </tr>\n",
       "    <tr>\n",
       "      <th>Bedrooms</th>\n",
       "      <td>0.002100</td>\n",
       "      <td>0.308338</td>\n",
       "      <td>1.000000</td>\n",
       "      <td>0.515884</td>\n",
       "      <td>0.576671</td>\n",
       "      <td>0.031703</td>\n",
       "      <td>0.175429</td>\n",
       "      <td>-0.006582</td>\n",
       "      <td>0.079532</td>\n",
       "      <td>0.028472</td>\n",
       "      <td>0.356967</td>\n",
       "      <td>0.477600</td>\n",
       "      <td>0.303093</td>\n",
       "      <td>0.154178</td>\n",
       "      <td>0.018841</td>\n",
       "      <td>-0.152668</td>\n",
       "      <td>-0.008931</td>\n",
       "      <td>0.129473</td>\n",
       "      <td>0.391638</td>\n",
       "      <td>0.029244</td>\n",
       "    </tr>\n",
       "    <tr>\n",
       "      <th>Bathrooms</th>\n",
       "      <td>0.003791</td>\n",
       "      <td>0.525134</td>\n",
       "      <td>0.515884</td>\n",
       "      <td>1.000000</td>\n",
       "      <td>0.754665</td>\n",
       "      <td>0.087740</td>\n",
       "      <td>0.500653</td>\n",
       "      <td>0.063744</td>\n",
       "      <td>0.187737</td>\n",
       "      <td>-0.124982</td>\n",
       "      <td>0.664983</td>\n",
       "      <td>0.685342</td>\n",
       "      <td>0.283770</td>\n",
       "      <td>0.506019</td>\n",
       "      <td>0.050739</td>\n",
       "      <td>-0.203866</td>\n",
       "      <td>0.024573</td>\n",
       "      <td>0.223042</td>\n",
       "      <td>0.568634</td>\n",
       "      <td>0.087175</td>\n",
       "    </tr>\n",
       "    <tr>\n",
       "      <th>Sqft_living</th>\n",
       "      <td>-0.013228</td>\n",
       "      <td>0.702044</td>\n",
       "      <td>0.576671</td>\n",
       "      <td>0.754665</td>\n",
       "      <td>1.000000</td>\n",
       "      <td>0.172826</td>\n",
       "      <td>0.353949</td>\n",
       "      <td>0.103818</td>\n",
       "      <td>0.284611</td>\n",
       "      <td>-0.058753</td>\n",
       "      <td>0.762704</td>\n",
       "      <td>0.876597</td>\n",
       "      <td>0.435043</td>\n",
       "      <td>0.318049</td>\n",
       "      <td>0.055363</td>\n",
       "      <td>-0.199430</td>\n",
       "      <td>0.052529</td>\n",
       "      <td>0.240223</td>\n",
       "      <td>0.756420</td>\n",
       "      <td>0.183286</td>\n",
       "    </tr>\n",
       "    <tr>\n",
       "      <th>Sqft_lot</th>\n",
       "      <td>-0.136540</td>\n",
       "      <td>0.089655</td>\n",
       "      <td>0.031703</td>\n",
       "      <td>0.087740</td>\n",
       "      <td>0.172826</td>\n",
       "      <td>1.000000</td>\n",
       "      <td>-0.005201</td>\n",
       "      <td>0.021604</td>\n",
       "      <td>0.074710</td>\n",
       "      <td>-0.008958</td>\n",
       "      <td>0.113621</td>\n",
       "      <td>0.183512</td>\n",
       "      <td>0.015286</td>\n",
       "      <td>0.053080</td>\n",
       "      <td>0.007644</td>\n",
       "      <td>-0.129574</td>\n",
       "      <td>-0.085683</td>\n",
       "      <td>0.229521</td>\n",
       "      <td>0.144608</td>\n",
       "      <td>0.718557</td>\n",
       "    </tr>\n",
       "    <tr>\n",
       "      <th>Floors</th>\n",
       "      <td>0.015831</td>\n",
       "      <td>0.256786</td>\n",
       "      <td>0.175429</td>\n",
       "      <td>0.500653</td>\n",
       "      <td>0.353949</td>\n",
       "      <td>-0.005201</td>\n",
       "      <td>1.000000</td>\n",
       "      <td>0.023698</td>\n",
       "      <td>0.029444</td>\n",
       "      <td>-0.263768</td>\n",
       "      <td>0.458183</td>\n",
       "      <td>0.523885</td>\n",
       "      <td>-0.245705</td>\n",
       "      <td>0.489319</td>\n",
       "      <td>0.006338</td>\n",
       "      <td>-0.059121</td>\n",
       "      <td>0.049614</td>\n",
       "      <td>0.125419</td>\n",
       "      <td>0.279885</td>\n",
       "      <td>-0.011269</td>\n",
       "    </tr>\n",
       "    <tr>\n",
       "      <th>Waterfront</th>\n",
       "      <td>-0.003573</td>\n",
       "      <td>0.266331</td>\n",
       "      <td>-0.006582</td>\n",
       "      <td>0.063744</td>\n",
       "      <td>0.103818</td>\n",
       "      <td>0.021604</td>\n",
       "      <td>0.023698</td>\n",
       "      <td>1.000000</td>\n",
       "      <td>0.401857</td>\n",
       "      <td>0.016653</td>\n",
       "      <td>0.082775</td>\n",
       "      <td>0.072075</td>\n",
       "      <td>0.080588</td>\n",
       "      <td>-0.026161</td>\n",
       "      <td>0.092885</td>\n",
       "      <td>0.030285</td>\n",
       "      <td>-0.014274</td>\n",
       "      <td>-0.041910</td>\n",
       "      <td>0.086463</td>\n",
       "      <td>0.030703</td>\n",
       "    </tr>\n",
       "    <tr>\n",
       "      <th>View</th>\n",
       "      <td>0.012509</td>\n",
       "      <td>0.397346</td>\n",
       "      <td>0.079532</td>\n",
       "      <td>0.187737</td>\n",
       "      <td>0.284611</td>\n",
       "      <td>0.074710</td>\n",
       "      <td>0.029444</td>\n",
       "      <td>0.401857</td>\n",
       "      <td>1.000000</td>\n",
       "      <td>0.045990</td>\n",
       "      <td>0.251321</td>\n",
       "      <td>0.167649</td>\n",
       "      <td>0.276947</td>\n",
       "      <td>-0.053440</td>\n",
       "      <td>0.103917</td>\n",
       "      <td>0.084827</td>\n",
       "      <td>0.006157</td>\n",
       "      <td>-0.078400</td>\n",
       "      <td>0.280439</td>\n",
       "      <td>0.072575</td>\n",
       "    </tr>\n",
       "    <tr>\n",
       "      <th>Condition</th>\n",
       "      <td>-0.021685</td>\n",
       "      <td>0.036392</td>\n",
       "      <td>0.028472</td>\n",
       "      <td>-0.124982</td>\n",
       "      <td>-0.058753</td>\n",
       "      <td>-0.008958</td>\n",
       "      <td>-0.263768</td>\n",
       "      <td>0.016653</td>\n",
       "      <td>0.045990</td>\n",
       "      <td>1.000000</td>\n",
       "      <td>-0.144674</td>\n",
       "      <td>-0.158214</td>\n",
       "      <td>0.174105</td>\n",
       "      <td>-0.361417</td>\n",
       "      <td>-0.060618</td>\n",
       "      <td>0.003026</td>\n",
       "      <td>-0.014941</td>\n",
       "      <td>-0.106500</td>\n",
       "      <td>-0.092824</td>\n",
       "      <td>-0.003406</td>\n",
       "    </tr>\n",
       "    <tr>\n",
       "      <th>Grade</th>\n",
       "      <td>0.007749</td>\n",
       "      <td>0.667463</td>\n",
       "      <td>0.356967</td>\n",
       "      <td>0.664983</td>\n",
       "      <td>0.762704</td>\n",
       "      <td>0.113621</td>\n",
       "      <td>0.458183</td>\n",
       "      <td>0.082775</td>\n",
       "      <td>0.251321</td>\n",
       "      <td>-0.144674</td>\n",
       "      <td>1.000000</td>\n",
       "      <td>0.755923</td>\n",
       "      <td>0.168392</td>\n",
       "      <td>0.446963</td>\n",
       "      <td>0.014414</td>\n",
       "      <td>-0.184862</td>\n",
       "      <td>0.114084</td>\n",
       "      <td>0.198372</td>\n",
       "      <td>0.713202</td>\n",
       "      <td>0.119248</td>\n",
       "    </tr>\n",
       "    <tr>\n",
       "      <th>Sqft_above</th>\n",
       "      <td>-0.013270</td>\n",
       "      <td>0.605566</td>\n",
       "      <td>0.477600</td>\n",
       "      <td>0.685342</td>\n",
       "      <td>0.876597</td>\n",
       "      <td>0.183512</td>\n",
       "      <td>0.523885</td>\n",
       "      <td>0.072075</td>\n",
       "      <td>0.167649</td>\n",
       "      <td>-0.158214</td>\n",
       "      <td>0.755923</td>\n",
       "      <td>1.000000</td>\n",
       "      <td>-0.051943</td>\n",
       "      <td>0.423898</td>\n",
       "      <td>0.023285</td>\n",
       "      <td>-0.261190</td>\n",
       "      <td>-0.000816</td>\n",
       "      <td>0.343803</td>\n",
       "      <td>0.731870</td>\n",
       "      <td>0.194050</td>\n",
       "    </tr>\n",
       "    <tr>\n",
       "      <th>Sqft_basement</th>\n",
       "      <td>-0.002623</td>\n",
       "      <td>0.323837</td>\n",
       "      <td>0.303093</td>\n",
       "      <td>0.283770</td>\n",
       "      <td>0.435043</td>\n",
       "      <td>0.015286</td>\n",
       "      <td>-0.245705</td>\n",
       "      <td>0.080588</td>\n",
       "      <td>0.276947</td>\n",
       "      <td>0.174105</td>\n",
       "      <td>0.168392</td>\n",
       "      <td>-0.051943</td>\n",
       "      <td>1.000000</td>\n",
       "      <td>-0.133124</td>\n",
       "      <td>0.071323</td>\n",
       "      <td>0.074845</td>\n",
       "      <td>0.110538</td>\n",
       "      <td>-0.144765</td>\n",
       "      <td>0.200355</td>\n",
       "      <td>0.017276</td>\n",
       "    </tr>\n",
       "    <tr>\n",
       "      <th>Yr_built</th>\n",
       "      <td>0.019339</td>\n",
       "      <td>0.053982</td>\n",
       "      <td>0.154178</td>\n",
       "      <td>0.506019</td>\n",
       "      <td>0.318049</td>\n",
       "      <td>0.053080</td>\n",
       "      <td>0.489319</td>\n",
       "      <td>-0.026161</td>\n",
       "      <td>-0.053440</td>\n",
       "      <td>-0.361417</td>\n",
       "      <td>0.446963</td>\n",
       "      <td>0.423898</td>\n",
       "      <td>-0.133124</td>\n",
       "      <td>1.000000</td>\n",
       "      <td>-0.224874</td>\n",
       "      <td>-0.346869</td>\n",
       "      <td>-0.148122</td>\n",
       "      <td>0.409356</td>\n",
       "      <td>0.326229</td>\n",
       "      <td>0.070958</td>\n",
       "    </tr>\n",
       "    <tr>\n",
       "      <th>Yr_renovated</th>\n",
       "      <td>-0.017579</td>\n",
       "      <td>0.126442</td>\n",
       "      <td>0.018841</td>\n",
       "      <td>0.050739</td>\n",
       "      <td>0.055363</td>\n",
       "      <td>0.007644</td>\n",
       "      <td>0.006338</td>\n",
       "      <td>0.092885</td>\n",
       "      <td>0.103917</td>\n",
       "      <td>-0.060618</td>\n",
       "      <td>0.014414</td>\n",
       "      <td>0.023285</td>\n",
       "      <td>0.071323</td>\n",
       "      <td>-0.224874</td>\n",
       "      <td>1.000000</td>\n",
       "      <td>0.064357</td>\n",
       "      <td>0.029398</td>\n",
       "      <td>-0.068372</td>\n",
       "      <td>-0.002673</td>\n",
       "      <td>0.007854</td>\n",
       "    </tr>\n",
       "    <tr>\n",
       "      <th>zipcode</th>\n",
       "      <td>-0.011795</td>\n",
       "      <td>-0.053168</td>\n",
       "      <td>-0.152668</td>\n",
       "      <td>-0.203866</td>\n",
       "      <td>-0.199430</td>\n",
       "      <td>-0.129574</td>\n",
       "      <td>-0.059121</td>\n",
       "      <td>0.030285</td>\n",
       "      <td>0.084827</td>\n",
       "      <td>0.003026</td>\n",
       "      <td>-0.184862</td>\n",
       "      <td>-0.261190</td>\n",
       "      <td>0.074845</td>\n",
       "      <td>-0.346869</td>\n",
       "      <td>0.064357</td>\n",
       "      <td>1.000000</td>\n",
       "      <td>0.267048</td>\n",
       "      <td>-0.564072</td>\n",
       "      <td>-0.279033</td>\n",
       "      <td>-0.147221</td>\n",
       "    </tr>\n",
       "    <tr>\n",
       "      <th>Lat</th>\n",
       "      <td>-0.001849</td>\n",
       "      <td>0.306919</td>\n",
       "      <td>-0.008931</td>\n",
       "      <td>0.024573</td>\n",
       "      <td>0.052529</td>\n",
       "      <td>-0.085683</td>\n",
       "      <td>0.049614</td>\n",
       "      <td>-0.014274</td>\n",
       "      <td>0.006157</td>\n",
       "      <td>-0.014941</td>\n",
       "      <td>0.114084</td>\n",
       "      <td>-0.000816</td>\n",
       "      <td>0.110538</td>\n",
       "      <td>-0.148122</td>\n",
       "      <td>0.029398</td>\n",
       "      <td>0.267048</td>\n",
       "      <td>1.000000</td>\n",
       "      <td>-0.135512</td>\n",
       "      <td>0.048858</td>\n",
       "      <td>-0.086419</td>\n",
       "    </tr>\n",
       "    <tr>\n",
       "      <th>Long</th>\n",
       "      <td>0.015529</td>\n",
       "      <td>0.021571</td>\n",
       "      <td>0.129473</td>\n",
       "      <td>0.223042</td>\n",
       "      <td>0.240223</td>\n",
       "      <td>0.229521</td>\n",
       "      <td>0.125419</td>\n",
       "      <td>-0.041910</td>\n",
       "      <td>-0.078400</td>\n",
       "      <td>-0.106500</td>\n",
       "      <td>0.198372</td>\n",
       "      <td>0.343803</td>\n",
       "      <td>-0.144765</td>\n",
       "      <td>0.409356</td>\n",
       "      <td>-0.068372</td>\n",
       "      <td>-0.564072</td>\n",
       "      <td>-0.135512</td>\n",
       "      <td>1.000000</td>\n",
       "      <td>0.334605</td>\n",
       "      <td>0.254451</td>\n",
       "    </tr>\n",
       "    <tr>\n",
       "      <th>Sqft_living15</th>\n",
       "      <td>-0.003885</td>\n",
       "      <td>0.585374</td>\n",
       "      <td>0.391638</td>\n",
       "      <td>0.568634</td>\n",
       "      <td>0.756420</td>\n",
       "      <td>0.144608</td>\n",
       "      <td>0.279885</td>\n",
       "      <td>0.086463</td>\n",
       "      <td>0.280439</td>\n",
       "      <td>-0.092824</td>\n",
       "      <td>0.713202</td>\n",
       "      <td>0.731870</td>\n",
       "      <td>0.200355</td>\n",
       "      <td>0.326229</td>\n",
       "      <td>-0.002673</td>\n",
       "      <td>-0.279033</td>\n",
       "      <td>0.048858</td>\n",
       "      <td>0.334605</td>\n",
       "      <td>1.000000</td>\n",
       "      <td>0.183192</td>\n",
       "    </tr>\n",
       "    <tr>\n",
       "      <th>Sqft_lot15</th>\n",
       "      <td>-0.143569</td>\n",
       "      <td>0.082456</td>\n",
       "      <td>0.029244</td>\n",
       "      <td>0.087175</td>\n",
       "      <td>0.183286</td>\n",
       "      <td>0.718557</td>\n",
       "      <td>-0.011269</td>\n",
       "      <td>0.030703</td>\n",
       "      <td>0.072575</td>\n",
       "      <td>-0.003406</td>\n",
       "      <td>0.119248</td>\n",
       "      <td>0.194050</td>\n",
       "      <td>0.017276</td>\n",
       "      <td>0.070958</td>\n",
       "      <td>0.007854</td>\n",
       "      <td>-0.147221</td>\n",
       "      <td>-0.086419</td>\n",
       "      <td>0.254451</td>\n",
       "      <td>0.183192</td>\n",
       "      <td>1.000000</td>\n",
       "    </tr>\n",
       "  </tbody>\n",
       "</table>\n",
       "</div>"
      ],
      "text/plain": [
       "                     ID     Price  Bedrooms  Bathrooms  Sqft_living  Sqft_lot  \\\n",
       "ID             1.000000 -0.016578  0.002100   0.003791    -0.013228 -0.136540   \n",
       "Price         -0.016578  1.000000  0.308338   0.525134     0.702044  0.089655   \n",
       "Bedrooms       0.002100  0.308338  1.000000   0.515884     0.576671  0.031703   \n",
       "Bathrooms      0.003791  0.525134  0.515884   1.000000     0.754665  0.087740   \n",
       "Sqft_living   -0.013228  0.702044  0.576671   0.754665     1.000000  0.172826   \n",
       "Sqft_lot      -0.136540  0.089655  0.031703   0.087740     0.172826  1.000000   \n",
       "Floors         0.015831  0.256786  0.175429   0.500653     0.353949 -0.005201   \n",
       "Waterfront    -0.003573  0.266331 -0.006582   0.063744     0.103818  0.021604   \n",
       "View           0.012509  0.397346  0.079532   0.187737     0.284611  0.074710   \n",
       "Condition     -0.021685  0.036392  0.028472  -0.124982    -0.058753 -0.008958   \n",
       "Grade          0.007749  0.667463  0.356967   0.664983     0.762704  0.113621   \n",
       "Sqft_above    -0.013270  0.605566  0.477600   0.685342     0.876597  0.183512   \n",
       "Sqft_basement -0.002623  0.323837  0.303093   0.283770     0.435043  0.015286   \n",
       "Yr_built       0.019339  0.053982  0.154178   0.506019     0.318049  0.053080   \n",
       "Yr_renovated  -0.017579  0.126442  0.018841   0.050739     0.055363  0.007644   \n",
       "zipcode       -0.011795 -0.053168 -0.152668  -0.203866    -0.199430 -0.129574   \n",
       "Lat           -0.001849  0.306919 -0.008931   0.024573     0.052529 -0.085683   \n",
       "Long           0.015529  0.021571  0.129473   0.223042     0.240223  0.229521   \n",
       "Sqft_living15 -0.003885  0.585374  0.391638   0.568634     0.756420  0.144608   \n",
       "Sqft_lot15    -0.143569  0.082456  0.029244   0.087175     0.183286  0.718557   \n",
       "\n",
       "                 Floors  Waterfront      View  Condition     Grade  \\\n",
       "ID             0.015831   -0.003573  0.012509  -0.021685  0.007749   \n",
       "Price          0.256786    0.266331  0.397346   0.036392  0.667463   \n",
       "Bedrooms       0.175429   -0.006582  0.079532   0.028472  0.356967   \n",
       "Bathrooms      0.500653    0.063744  0.187737  -0.124982  0.664983   \n",
       "Sqft_living    0.353949    0.103818  0.284611  -0.058753  0.762704   \n",
       "Sqft_lot      -0.005201    0.021604  0.074710  -0.008958  0.113621   \n",
       "Floors         1.000000    0.023698  0.029444  -0.263768  0.458183   \n",
       "Waterfront     0.023698    1.000000  0.401857   0.016653  0.082775   \n",
       "View           0.029444    0.401857  1.000000   0.045990  0.251321   \n",
       "Condition     -0.263768    0.016653  0.045990   1.000000 -0.144674   \n",
       "Grade          0.458183    0.082775  0.251321  -0.144674  1.000000   \n",
       "Sqft_above     0.523885    0.072075  0.167649  -0.158214  0.755923   \n",
       "Sqft_basement -0.245705    0.080588  0.276947   0.174105  0.168392   \n",
       "Yr_built       0.489319   -0.026161 -0.053440  -0.361417  0.446963   \n",
       "Yr_renovated   0.006338    0.092885  0.103917  -0.060618  0.014414   \n",
       "zipcode       -0.059121    0.030285  0.084827   0.003026 -0.184862   \n",
       "Lat            0.049614   -0.014274  0.006157  -0.014941  0.114084   \n",
       "Long           0.125419   -0.041910 -0.078400  -0.106500  0.198372   \n",
       "Sqft_living15  0.279885    0.086463  0.280439  -0.092824  0.713202   \n",
       "Sqft_lot15    -0.011269    0.030703  0.072575  -0.003406  0.119248   \n",
       "\n",
       "               Sqft_above  Sqft_basement  Yr_built  Yr_renovated   zipcode  \\\n",
       "ID              -0.013270      -0.002623  0.019339     -0.017579 -0.011795   \n",
       "Price            0.605566       0.323837  0.053982      0.126442 -0.053168   \n",
       "Bedrooms         0.477600       0.303093  0.154178      0.018841 -0.152668   \n",
       "Bathrooms        0.685342       0.283770  0.506019      0.050739 -0.203866   \n",
       "Sqft_living      0.876597       0.435043  0.318049      0.055363 -0.199430   \n",
       "Sqft_lot         0.183512       0.015286  0.053080      0.007644 -0.129574   \n",
       "Floors           0.523885      -0.245705  0.489319      0.006338 -0.059121   \n",
       "Waterfront       0.072075       0.080588 -0.026161      0.092885  0.030285   \n",
       "View             0.167649       0.276947 -0.053440      0.103917  0.084827   \n",
       "Condition       -0.158214       0.174105 -0.361417     -0.060618  0.003026   \n",
       "Grade            0.755923       0.168392  0.446963      0.014414 -0.184862   \n",
       "Sqft_above       1.000000      -0.051943  0.423898      0.023285 -0.261190   \n",
       "Sqft_basement   -0.051943       1.000000 -0.133124      0.071323  0.074845   \n",
       "Yr_built         0.423898      -0.133124  1.000000     -0.224874 -0.346869   \n",
       "Yr_renovated     0.023285       0.071323 -0.224874      1.000000  0.064357   \n",
       "zipcode         -0.261190       0.074845 -0.346869      0.064357  1.000000   \n",
       "Lat             -0.000816       0.110538 -0.148122      0.029398  0.267048   \n",
       "Long             0.343803      -0.144765  0.409356     -0.068372 -0.564072   \n",
       "Sqft_living15    0.731870       0.200355  0.326229     -0.002673 -0.279033   \n",
       "Sqft_lot15       0.194050       0.017276  0.070958      0.007854 -0.147221   \n",
       "\n",
       "                    Lat      Long  Sqft_living15  Sqft_lot15  \n",
       "ID            -0.001849  0.015529      -0.003885   -0.143569  \n",
       "Price          0.306919  0.021571       0.585374    0.082456  \n",
       "Bedrooms      -0.008931  0.129473       0.391638    0.029244  \n",
       "Bathrooms      0.024573  0.223042       0.568634    0.087175  \n",
       "Sqft_living    0.052529  0.240223       0.756420    0.183286  \n",
       "Sqft_lot      -0.085683  0.229521       0.144608    0.718557  \n",
       "Floors         0.049614  0.125419       0.279885   -0.011269  \n",
       "Waterfront    -0.014274 -0.041910       0.086463    0.030703  \n",
       "View           0.006157 -0.078400       0.280439    0.072575  \n",
       "Condition     -0.014941 -0.106500      -0.092824   -0.003406  \n",
       "Grade          0.114084  0.198372       0.713202    0.119248  \n",
       "Sqft_above    -0.000816  0.343803       0.731870    0.194050  \n",
       "Sqft_basement  0.110538 -0.144765       0.200355    0.017276  \n",
       "Yr_built      -0.148122  0.409356       0.326229    0.070958  \n",
       "Yr_renovated   0.029398 -0.068372      -0.002673    0.007854  \n",
       "zipcode        0.267048 -0.564072      -0.279033   -0.147221  \n",
       "Lat            1.000000 -0.135512       0.048858   -0.086419  \n",
       "Long          -0.135512  1.000000       0.334605    0.254451  \n",
       "Sqft_living15  0.048858  0.334605       1.000000    0.183192  \n",
       "Sqft_lot15    -0.086419  0.254451       0.183192    1.000000  "
      ]
     },
     "execution_count": 7,
     "metadata": {},
     "output_type": "execute_result"
    }
   ],
   "source": [
    "house.corr()\n"
   ]
  },
  {
   "cell_type": "code",
   "execution_count": 8,
   "metadata": {
    "colab": {
     "base_uri": "https://localhost:8080/"
    },
    "id": "w7IFuLuL_ibJ",
    "outputId": "f6ef50ab-bd72-4a30-b3d0-8f6dae8c7882"
   },
   "outputs": [
    {
     "data": {
      "text/plain": [
       "ID               0\n",
       "Date             0\n",
       "Price            0\n",
       "Bedrooms         0\n",
       "Bathrooms        0\n",
       "Sqft_living      0\n",
       "Sqft_lot         0\n",
       "Floors           0\n",
       "Waterfront       0\n",
       "View             0\n",
       "Condition        0\n",
       "Grade            0\n",
       "Sqft_above       0\n",
       "Sqft_basement    0\n",
       "Yr_built         0\n",
       "Yr_renovated     0\n",
       "zipcode          0\n",
       "Lat              0\n",
       "Long             0\n",
       "Sqft_living15    0\n",
       "Sqft_lot15       0\n",
       "dtype: int64"
      ]
     },
     "execution_count": 8,
     "metadata": {},
     "output_type": "execute_result"
    }
   ],
   "source": [
    "# check for missing value\n",
    "house.isnull().sum()\n"
   ]
  },
  {
   "cell_type": "code",
   "execution_count": 9,
   "metadata": {
    "id": "RUFz4dbP3ahj"
   },
   "outputs": [],
   "source": [
    "from sklearn.model_selection import train_test_split\n",
    "from sklearn.linear_model import LinearRegression\n",
    "from sklearn.metrics import r2_score\n",
    "X = house.iloc[:,3:]\n",
    "y = house.iloc[:,-1]\n",
    "\n"
   ]
  },
  {
   "cell_type": "code",
   "execution_count": 10,
   "metadata": {
    "colab": {
     "base_uri": "https://localhost:8080/"
    },
    "id": "Zypl8P8DOEYz",
    "outputId": "497a4477-0d99-4f1f-e979-4c13b3019575"
   },
   "outputs": [
    {
     "data": {
      "text/plain": [
       "(21613, 18)"
      ]
     },
     "execution_count": 10,
     "metadata": {},
     "output_type": "execute_result"
    }
   ],
   "source": [
    "X.shape\n"
   ]
  },
  {
   "cell_type": "code",
   "execution_count": 11,
   "metadata": {
    "colab": {
     "base_uri": "https://localhost:8080/"
    },
    "id": "OApYjx00OFYM",
    "outputId": "ea32766f-08e8-40a7-f562-4687a1074f10"
   },
   "outputs": [
    {
     "data": {
      "text/plain": [
       "(21613,)"
      ]
     },
     "execution_count": 11,
     "metadata": {},
     "output_type": "execute_result"
    }
   ],
   "source": [
    "y.shape"
   ]
  },
  {
   "cell_type": "code",
   "execution_count": 12,
   "metadata": {
    "colab": {
     "base_uri": "https://localhost:8080/",
     "height": 75
    },
    "id": "iIYYEtCC6Gm2",
    "outputId": "3980bff5-345a-46ba-b1f3-55ed85fbbb59"
   },
   "outputs": [
    {
     "data": {
      "text/html": [
       "<style>#sk-container-id-1 {color: black;background-color: white;}#sk-container-id-1 pre{padding: 0;}#sk-container-id-1 div.sk-toggleable {background-color: white;}#sk-container-id-1 label.sk-toggleable__label {cursor: pointer;display: block;width: 100%;margin-bottom: 0;padding: 0.3em;box-sizing: border-box;text-align: center;}#sk-container-id-1 label.sk-toggleable__label-arrow:before {content: \"▸\";float: left;margin-right: 0.25em;color: #696969;}#sk-container-id-1 label.sk-toggleable__label-arrow:hover:before {color: black;}#sk-container-id-1 div.sk-estimator:hover label.sk-toggleable__label-arrow:before {color: black;}#sk-container-id-1 div.sk-toggleable__content {max-height: 0;max-width: 0;overflow: hidden;text-align: left;background-color: #f0f8ff;}#sk-container-id-1 div.sk-toggleable__content pre {margin: 0.2em;color: black;border-radius: 0.25em;background-color: #f0f8ff;}#sk-container-id-1 input.sk-toggleable__control:checked~div.sk-toggleable__content {max-height: 200px;max-width: 100%;overflow: auto;}#sk-container-id-1 input.sk-toggleable__control:checked~label.sk-toggleable__label-arrow:before {content: \"▾\";}#sk-container-id-1 div.sk-estimator input.sk-toggleable__control:checked~label.sk-toggleable__label {background-color: #d4ebff;}#sk-container-id-1 div.sk-label input.sk-toggleable__control:checked~label.sk-toggleable__label {background-color: #d4ebff;}#sk-container-id-1 input.sk-hidden--visually {border: 0;clip: rect(1px 1px 1px 1px);clip: rect(1px, 1px, 1px, 1px);height: 1px;margin: -1px;overflow: hidden;padding: 0;position: absolute;width: 1px;}#sk-container-id-1 div.sk-estimator {font-family: monospace;background-color: #f0f8ff;border: 1px dotted black;border-radius: 0.25em;box-sizing: border-box;margin-bottom: 0.5em;}#sk-container-id-1 div.sk-estimator:hover {background-color: #d4ebff;}#sk-container-id-1 div.sk-parallel-item::after {content: \"\";width: 100%;border-bottom: 1px solid gray;flex-grow: 1;}#sk-container-id-1 div.sk-label:hover label.sk-toggleable__label {background-color: #d4ebff;}#sk-container-id-1 div.sk-serial::before {content: \"\";position: absolute;border-left: 1px solid gray;box-sizing: border-box;top: 0;bottom: 0;left: 50%;z-index: 0;}#sk-container-id-1 div.sk-serial {display: flex;flex-direction: column;align-items: center;background-color: white;padding-right: 0.2em;padding-left: 0.2em;position: relative;}#sk-container-id-1 div.sk-item {position: relative;z-index: 1;}#sk-container-id-1 div.sk-parallel {display: flex;align-items: stretch;justify-content: center;background-color: white;position: relative;}#sk-container-id-1 div.sk-item::before, #sk-container-id-1 div.sk-parallel-item::before {content: \"\";position: absolute;border-left: 1px solid gray;box-sizing: border-box;top: 0;bottom: 0;left: 50%;z-index: -1;}#sk-container-id-1 div.sk-parallel-item {display: flex;flex-direction: column;z-index: 1;position: relative;background-color: white;}#sk-container-id-1 div.sk-parallel-item:first-child::after {align-self: flex-end;width: 50%;}#sk-container-id-1 div.sk-parallel-item:last-child::after {align-self: flex-start;width: 50%;}#sk-container-id-1 div.sk-parallel-item:only-child::after {width: 0;}#sk-container-id-1 div.sk-dashed-wrapped {border: 1px dashed gray;margin: 0 0.4em 0.5em 0.4em;box-sizing: border-box;padding-bottom: 0.4em;background-color: white;}#sk-container-id-1 div.sk-label label {font-family: monospace;font-weight: bold;display: inline-block;line-height: 1.2em;}#sk-container-id-1 div.sk-label-container {text-align: center;}#sk-container-id-1 div.sk-container {/* jupyter's `normalize.less` sets `[hidden] { display: none; }` but bootstrap.min.css set `[hidden] { display: none !important; }` so we also need the `!important` here to be able to override the default hidden behavior on the sphinx rendered scikit-learn.org. See: https://github.com/scikit-learn/scikit-learn/issues/21755 */display: inline-block !important;position: relative;}#sk-container-id-1 div.sk-text-repr-fallback {display: none;}</style><div id=\"sk-container-id-1\" class=\"sk-top-container\"><div class=\"sk-text-repr-fallback\"><pre>LinearRegression()</pre><b>In a Jupyter environment, please rerun this cell to show the HTML representation or trust the notebook. <br />On GitHub, the HTML representation is unable to render, please try loading this page with nbviewer.org.</b></div><div class=\"sk-container\" hidden><div class=\"sk-item\"><div class=\"sk-estimator sk-toggleable\"><input class=\"sk-toggleable__control sk-hidden--visually\" id=\"sk-estimator-id-1\" type=\"checkbox\" checked><label for=\"sk-estimator-id-1\" class=\"sk-toggleable__label sk-toggleable__label-arrow\">LinearRegression</label><div class=\"sk-toggleable__content\"><pre>LinearRegression()</pre></div></div></div></div></div>"
      ],
      "text/plain": [
       "LinearRegression()"
      ]
     },
     "execution_count": 12,
     "metadata": {},
     "output_type": "execute_result"
    }
   ],
   "source": [
    "X_train, X_test, y_train, y_test = train_test_split(X, y, random_state=0, test_size=.3)\n",
    "lin = LinearRegression()\n",
    "lin.fit(X_train, y_train)\n"
   ]
  },
  {
   "cell_type": "code",
   "execution_count": 13,
   "metadata": {
    "colab": {
     "base_uri": "https://localhost:8080/"
    },
    "id": "nPnwhI5UOcFV",
    "outputId": "a53d7e5c-03dc-4720-a424-637fd580c329"
   },
   "outputs": [
    {
     "data": {
      "text/plain": [
       "-6.19002094026655e-09"
      ]
     },
     "execution_count": 13,
     "metadata": {},
     "output_type": "execute_result"
    }
   ],
   "source": [
    "lin.intercept_"
   ]
  },
  {
   "cell_type": "code",
   "execution_count": 14,
   "metadata": {
    "colab": {
     "base_uri": "https://localhost:8080/"
    },
    "id": "kBeXxMixOeNm",
    "outputId": "6eeadee6-4aa5-4746-e71b-1eb2bd18b928"
   },
   "outputs": [
    {
     "data": {
      "text/plain": [
       "array([ 1.20427977e-11, -3.81208024e-12, -1.08056703e-14, -9.82122355e-16,\n",
       "       -2.83356840e-13, -1.00557669e-11, -8.22691101e-13,  1.71528939e-13,\n",
       "       -1.54103389e-13, -3.81245857e-15, -6.99947998e-15,  1.12807791e-14,\n",
       "       -3.95359120e-16,  4.31717368e-14,  3.10647083e-12, -1.45974542e-11,\n",
       "       -5.38998112e-16,  1.00000000e+00])"
      ]
     },
     "execution_count": 14,
     "metadata": {},
     "output_type": "execute_result"
    }
   ],
   "source": [
    "lin.coef_"
   ]
  },
  {
   "cell_type": "code",
   "execution_count": 15,
   "metadata": {
    "id": "WmKseDzGOjb-"
   },
   "outputs": [],
   "source": [
    "y_pred=lin.predict(X_test)\n"
   ]
  },
  {
   "cell_type": "code",
   "execution_count": 16,
   "metadata": {
    "colab": {
     "base_uri": "https://localhost:8080/",
     "height": 447
    },
    "id": "VF_G4TltPzdJ",
    "outputId": "b1a8a61a-9f01-43db-92bf-917e51c39438"
   },
   "outputs": [
    {
     "data": {
      "text/plain": [
       "<matplotlib.collections.PathCollection at 0x2749ca265c0>"
      ]
     },
     "execution_count": 16,
     "metadata": {},
     "output_type": "execute_result"
    },
    {
     "data": {
      "image/png": "[encoded data removed]",
      "text/plain": [
       "<Figure size 640x480 with 1 Axes>"
      ]
     },
     "metadata": {},
     "output_type": "display_data"
    }
   ],
   "source": [
    "import matplotlib.pyplot as plt\n",
    "plt.scatter(y_test,y_pred)"
   ]
  },
  {
   "cell_type": "code",
   "execution_count": 17,
   "metadata": {
    "colab": {
     "base_uri": "https://localhost:8080/"
    },
    "id": "ZyiizT1uOuj8",
    "outputId": "fa2d337e-3ff0-423f-f69a-d7180b32bd70"
   },
   "outputs": [
    {
     "data": {
      "text/plain": [
       "1.7222797695088462e-15"
      ]
     },
     "execution_count": 17,
     "metadata": {},
     "output_type": "execute_result"
    }
   ],
   "source": [
    "from sklearn.metrics import mean_absolute_percentage_error\n",
    "mean_absolute_percentage_error(y_test,y_pred)"
   ]
  },
  {
   "cell_type": "code",
   "execution_count": 18,
   "metadata": {
    "colab": {
     "base_uri": "https://localhost:8080/"
    },
    "id": "vrLXE5d9O7Ke",
    "outputId": "27cb6c6e-a710-480e-b2cb-01d4525015f6"
   },
   "outputs": [
    {
     "data": {
      "text/plain": [
       "1.3964895591272511e-11"
      ]
     },
     "execution_count": 18,
     "metadata": {},
     "output_type": "execute_result"
    }
   ],
   "source": [
    "from sklearn.metrics import mean_absolute_error\n",
    "mean_absolute_error(y_test,y_pred)"
   ]
  },
  {
   "cell_type": "code",
   "execution_count": 19,
   "metadata": {
    "colab": {
     "base_uri": "https://localhost:8080/"
    },
    "id": "yCMMUUPFO8iX",
    "outputId": "9af28df8-d05b-4f8c-fb69-f17e24a222d8"
   },
   "outputs": [
    {
     "data": {
      "text/plain": [
       "1.0468636421263525e-21"
      ]
     },
     "execution_count": 19,
     "metadata": {},
     "output_type": "execute_result"
    }
   ],
   "source": [
    "from sklearn.metrics import mean_squared_error\n",
    "mean_squared_error(y_test,y_pred)"
   ]
  },
  {
   "cell_type": "code",
   "execution_count": 20,
   "metadata": {
    "colab": {
     "base_uri": "https://localhost:8080/"
    },
    "id": "5kR1Y52nOa_w",
    "outputId": "081ef9b4-09f1-4897-f332-dda3fc28ebc8"
   },
   "outputs": [
    {
     "name": "stdout",
     "output_type": "stream",
     "text": [
      "1.0\n"
     ]
    }
   ],
   "source": [
    "y_pred = lin.predict(X_test)\n",
    "print(r2_score(y_test, y_pred))"
   ]
  },
  {
   "cell_type": "code",
   "execution_count": 21,
   "metadata": {
    "id": "1o9Ogb-dP-xj"
   },
   "outputs": [
    {
     "data": {
      "text/html": [
       "<div>\n",
       "<style scoped>\n",
       "    .dataframe tbody tr th:only-of-type {\n",
       "        vertical-align: middle;\n",
       "    }\n",
       "\n",
       "    .dataframe tbody tr th {\n",
       "        vertical-align: top;\n",
       "    }\n",
       "\n",
       "    .dataframe thead th {\n",
       "        text-align: right;\n",
       "    }\n",
       "</style>\n",
       "<table border=\"1\" class=\"dataframe\">\n",
       "  <thead>\n",
       "    <tr style=\"text-align: right;\">\n",
       "      <th></th>\n",
       "      <th>Bedrooms</th>\n",
       "      <th>Bathrooms</th>\n",
       "      <th>Sqft_living</th>\n",
       "      <th>Sqft_lot</th>\n",
       "      <th>Floors</th>\n",
       "      <th>Waterfront</th>\n",
       "      <th>View</th>\n",
       "      <th>Condition</th>\n",
       "      <th>Grade</th>\n",
       "      <th>Sqft_above</th>\n",
       "      <th>Sqft_basement</th>\n",
       "      <th>Yr_built</th>\n",
       "      <th>Yr_renovated</th>\n",
       "      <th>zipcode</th>\n",
       "      <th>Lat</th>\n",
       "      <th>Long</th>\n",
       "      <th>Sqft_living15</th>\n",
       "      <th>Sqft_lot15</th>\n",
       "    </tr>\n",
       "  </thead>\n",
       "  <tbody>\n",
       "  </tbody>\n",
       "</table>\n",
       "</div>"
      ],
      "text/plain": [
       "Empty DataFrame\n",
       "Columns: [Bedrooms       , Bathrooms      , Sqft_living    , Sqft_lot       , Floors, Waterfront, View           , Condition, Grade, Sqft_above, Sqft_basement  , Yr_built        , Yr_renovated, zipcode        , Lat, Long           , Sqft_living15        , Sqft_lot15]\n",
       "Index: []"
      ]
     },
     "execution_count": 21,
     "metadata": {},
     "output_type": "execute_result"
    }
   ],
   "source": [
    "import pickle\n",
    "  \n",
    "# Save the trained model as a pickle string.\n",
    "saved_model = pickle.dumps(lin)\n",
    "  \n",
    "# Load the pickled model\n",
    "pickleModel = pickle.loads(saved_model)\n",
    "  \n",
    "\n",
    "    \n",
    "features = [\n",
    "    \"Bedrooms       \",\n",
    "    \"Bathrooms      \",\n",
    "    \"Sqft_living    \",\n",
    "    \"Sqft_lot       \",\n",
    "    \"Floors\",\n",
    "    \"Waterfront\",\n",
    "    \"View           \",\n",
    "    \"Condition\",\n",
    "    \"Grade\",\n",
    "    \"Sqft_above\",\n",
    "    \"Sqft_basement  \",\n",
    "    \"Yr_built        \",\n",
    "    \"Yr_renovated\",\n",
    "    \"zipcode        \",\n",
    "    \"Lat\",\n",
    "    \"Long           \",\n",
    "    \"Sqft_living15        \",\n",
    "    \"Sqft_lot15\"\n",
    "]\n",
    "# Creating a DF for these features\n",
    "df = pd.DataFrame(columns=features)\n",
    "df\n"
   ]
  },
  {
   "cell_type": "code",
   "execution_count": 23,
   "metadata": {},
   "outputs": [],
   "source": [
    "import tkinter as tk  \n",
    "from functools import partial  \n",
    "   \n",
    "   \n",
    "def call_result(label_result, n1, n2,n3,n4,n5,n6,n7,n8,n9,n10,n11,n12,n13,n14,n15,n16,n17,n18):  \n",
    "    num1 = int(n1.get())  \n",
    "    num2 = float(n2.get())  \n",
    "    num3 = int(n3.get())  \n",
    "    num4 = int(n4.get())  \n",
    "    num5 = float(n5.get())  \n",
    "    num6 = int(n6.get())  \n",
    "    num7 = int(n7.get())  \n",
    "    num8 = int(n8.get())  \n",
    "    num9 = int(n9.get())  \n",
    "    num10 = int(n10.get())  \n",
    "    num11 = int(n11.get())  \n",
    "    num12 = int(n12.get())  \n",
    "    num13 = int(n13.get())  \n",
    "    num14 = int(n14.get())  \n",
    "    num15 = float(n14.get()) \n",
    "    num16 = float(n14.get()) \n",
    "    num17 = int(n14.get()) \n",
    "    num18 = int(n14.get()) \n",
    "    \n",
    "    df = np.array([[num1, num2, num3, num4, num5, num6, num7, num8, num9, num10, num11, num12, num13, num14, num15, num16, num17, num18]])  \n",
    "    y_new=pickleModel.predict(df)\n",
    "    label_result.config(text=\"Result = %0.3f\" % y_new)  \n",
    "    print(f'Predicted value: {y_new}')\n",
    "    return  \n",
    "   \n",
    "root = tk.Tk()  \n",
    "root.geometry('800x500')  \n",
    "  \n",
    "root.title('House Price Predictor')  \n",
    "   \n",
    "number1 = tk.StringVar()  \n",
    "number2 = tk.StringVar()  \n",
    "number3 = tk.StringVar()  \n",
    "number4 = tk.StringVar()  \n",
    "number5 = tk.StringVar()  \n",
    "number6 = tk.StringVar()  \n",
    "number7 = tk.StringVar()  \n",
    "number8 = tk.StringVar()  \n",
    "number9 = tk.StringVar()  \n",
    "number10 = tk.StringVar()  \n",
    "number11 = tk.StringVar()  \n",
    "number12 = tk.StringVar()  \n",
    "number13 = tk.StringVar()  \n",
    "number14 = tk.StringVar()  \n",
    "number15 = tk.StringVar()  \n",
    "number16 = tk.StringVar()  \n",
    "number17 = tk.StringVar()  \n",
    "number18 = tk.StringVar()  \n",
    "\n",
    "  \n",
    "labelNum1 = tk.Label(root, text=\"Bedrooms\").grid(row=1, column=0)  \n",
    "labelNum2 = tk.Label(root, text=\"Bathrooms\").grid(row=2, column=0)  \n",
    "labelNum3 = tk.Label(root, text=\"Sqft_living\").grid(row=3, column=0)  \n",
    "labelNum4 = tk.Label(root, text=\"Sqft_lot\").grid(row=4, column=0)  \n",
    "labelNum5 = tk.Label(root, text=\"Floors\").grid(row=5, column=0)  \n",
    "labelNum6 = tk.Label(root, text=\"Waterfront\").grid(row=6, column=0)  \n",
    "labelNum7 = tk.Label(root, text=\"View\").grid(row=7, column=0)  \n",
    "labelNum8 = tk.Label(root, text=\"Condition\").grid(row=8, column=0)  \n",
    "labelNum9 = tk.Label(root, text=\"Grade\").grid(row=9, column=0)  \n",
    "labelNum10 = tk.Label(root, text=\"Sqft_above\").grid(row=10, column=0)  \n",
    "labelNum11 = tk.Label(root, text=\"Sqft_basement\").grid(row=11, column=0)  \n",
    "labelNum12 = tk.Label(root, text=\"Yr_built\").grid(row=12, column=0)  \n",
    "labelNum13 = tk.Label(root, text=\"Yr_renovated\").grid(row=13, column=0)  \n",
    "labelNum14 = tk.Label(root, text=\"zipcode\").grid(row=14, column=0)  \n",
    "labelNum115 = tk.Label(root, text=\"Lat\").grid(row=15, column=0)  \n",
    "labelNum16 = tk.Label(root, text=\"Long\").grid(row=16, column=0)  \n",
    "labelNum17 = tk.Label(root, text=\"Sqft_living15\").grid(row=17, column=0)  \n",
    "labelNum18 = tk.Label(root, text=\"Sqft_lot15\").grid(row=18, column=0)  \n",
    "\n",
    "\n",
    "labelResult = tk.Label(root)  \n",
    "labelResult.grid(row=20, column=2)  \n",
    "\n",
    "\n",
    "  \n",
    "entryNum1 = tk.Entry(root, textvariable=number1).grid(row=1, column=2)    \n",
    "entryNum2 = tk.Entry(root, textvariable=number2).grid(row=2, column=2)  \n",
    "entryNum3 = tk.Entry(root, textvariable=number3).grid(row=3, column=2)    \n",
    "entryNum4 = tk.Entry(root, textvariable=number4).grid(row=4, column=2)  \n",
    "entryNum5 = tk.Entry(root, textvariable=number5).grid(row=5, column=2)    \n",
    "entryNum6 = tk.Entry(root, textvariable=number6).grid(row=6, column=2)  \n",
    "entryNum7 = tk.Entry(root, textvariable=number7).grid(row=7, column=2)    \n",
    "entryNum8 = tk.Entry(root, textvariable=number8).grid(row=8, column=2)  \n",
    "entryNum9 = tk.Entry(root, textvariable=number9).grid(row=9, column=2)    \n",
    "entryNum10 = tk.Entry(root, textvariable=number10).grid(row=10, column=2)  \n",
    "entryNum11 = tk.Entry(root, textvariable=number11).grid(row=11, column=2)    \n",
    "entryNum12 = tk.Entry(root, textvariable=number12).grid(row=12, column=2)  \n",
    "entryNum13 = tk.Entry(root, textvariable=number13).grid(row=13, column=2)    \n",
    "entryNum14 = tk.Entry(root, textvariable=number14).grid(row=14, column=2)  \n",
    "entryNum15 = tk.Entry(root, textvariable=number15).grid(row=15, column=2)  \n",
    "entryNum16 = tk.Entry(root, textvariable=number16).grid(row=16, column=2)  \n",
    "entryNum17 = tk.Entry(root, textvariable=number17).grid(row=17, column=2)  \n",
    "entryNum18 = tk.Entry(root, textvariable=number18).grid(row=18, column=2)  \n",
    "\n",
    "\n",
    "\n",
    "  \n",
    "call_result = partial(call_result, labelResult, number1, number2, number3, number4, number5, number6, number7, number8, number9, number10, number11, number12, number13, number14, number15, number16, number17, number18)  \n",
    "  \n",
    "buttonCal = tk.Button(root, text=\"Calculate\", command=call_result).grid(row=19, column=0)  \n",
    "  \n",
    "    \n",
    "root.mainloop()  "
   ]
  }
 ],
 "metadata": {
  "colab": {
   "provenance": []
  },
  "kernelspec": {
   "display_name": "Python 3 (ipykernel)",
   "language": "python",
   "name": "python3"
  },
  "language_info": {
   "codemirror_mode": {
    "name": "ipython",
    "version": 3
   },
   "file_extension": ".py",
   "mimetype": "text/x-python",
   "name": "python",
   "nbconvert_exporter": "python",
   "pygments_lexer": "ipython3",
   "version": "3.10.9"
  }
 },
 "nbformat": 4,
 "nbformat_minor": 1
}
